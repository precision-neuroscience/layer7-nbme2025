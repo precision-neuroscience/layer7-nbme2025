{
 "cells": [
  {
   "cell_type": "markdown",
   "id": "45c25dff-ebda-43d9-a09b-5ae707b1595d",
   "metadata": {},
   "source": [
    "# Minimally invasive implant of a high-density and scalable cortical microelectrode array allows multimodal neural decoding\n",
    "\n",
    "This notebook includes functions that demostrate the following:\n",
    "1. The loading of Intan-style data\n",
    "2. Filtering for EEG bands\n",
    "3. Triggered averaging\n",
    "4. Correlation between electrode pairs\n",
    "5. Hjorth activity\n",
    "\n",
    "This notebook is intended to demonstrate methods generate the analysis for animal data presented in the Paper."
   ]
  },
  {
   "cell_type": "markdown",
   "id": "1e5136d9-4aea-456b-978a-78d2fb1362d5",
   "metadata": {},
   "source": [
    "# Loading data\n",
    "\n",
    "Data is recording in Intan-format. Please refer to the Python RHD file reader instructions and references for data loading, which can be found here: https://www.intantech.com/downloads.html?tabSelect=Software&yPos=100"
   ]
  },
  {
   "cell_type": "code",
   "execution_count": null,
   "id": "a2e56713-b265-4cdf-8dd5-e5c141d8d02a",
   "metadata": {},
   "outputs": [],
   "source": [
    "from load_intan_rhd_format import read_data\n",
    "\n",
    "# define your data folder\n",
    "# data_folder = '....rhd'\n",
    "\n",
    "# Load up neural data\n",
    "data = intan.read_data(data_folder)\n",
    "neural_data = data['amplifier_data']"
   ]
  },
  {
   "cell_type": "code",
   "execution_count": null,
   "id": "4f0a5cf6-6837-42f7-b0a8-cbaac5d7a7fc",
   "metadata": {},
   "outputs": [],
   "source": [
    "import numpy as np\n",
    "\n",
    "# Find rising edges corresponding to triggers for triggered averaging\n",
    "def detect_rising_edge(sequence, threshold, cooldown, mode='index_output'):\n",
    "    step_indices = []\n",
    "    in_cooldown = 0\n",
    "    nSize = len(sequence)\n",
    "    seq_diff = np.diff(sequence)\n",
    "\n",
    "    thres_times = np.argwhere(seq_diff > threshold)[:,0]\n",
    "    step_indices.append(thres_times[0])\n",
    "    for t in thres_times[1:]:\n",
    "        if t - step_indices[-1] > cooldown:\n",
    "            step_indices.append(t)\n",
    "\n",
    "    return np.array(step_indices)\n",
    "\n",
    "trig = detect_rising_edge(data['board_dig_in_data'][0,:].astype(int), threshold=0.5, cooldown=500, mode='index_output')"
   ]
  },
  {
   "cell_type": "markdown",
   "id": "4167b7b3-5dd2-4f0d-bac1-41d5688ad4da",
   "metadata": {},
   "source": [
    "# Compute EEG bands"
   ]
  },
  {
   "cell_type": "code",
   "execution_count": null,
   "id": "40e992b2-3b95-4e88-ac6e-0915443fc244",
   "metadata": {},
   "outputs": [],
   "source": [
    "from scipy import signal\n",
    "\n",
    "# Define functions for filters\n",
    "\n",
    "def butter_lowpass_filter(data, cutoff, fs, order):\n",
    "    nyq = 0.5 * fs\n",
    "    normal_cutoff = cutoff / nyq\n",
    "    # Get the filter coefficients \n",
    "    sos = signal.butter(order, normal_cutoff, btype='low', analog=False, output='sos')\n",
    "    y = signal.sosfiltfilt(sos, data)\n",
    "    return y\n",
    "\n",
    "def butter_bandpass_filter(data, cutoff, fs, order):\n",
    "    nyq = 0.5 * fs\n",
    "    normal_cutoff = np.array(cutoff) / nyq\n",
    "    # Get the filter coefficients \n",
    "    sos = signal.butter(order, normal_cutoff, btype='bandpass', analog=False, output='sos')\n",
    "    y = signal.sosfiltfilt(sos, data)\n",
    "    return y"
   ]
  },
  {
   "cell_type": "code",
   "execution_count": null,
   "id": "a1168143-329d-4609-9a31-fcf60d72a922",
   "metadata": {},
   "outputs": [],
   "source": [
    "# Example of computing an EEG band\n",
    "neural_bp = butter_bandpass_filter(neural_data, [4,300], fs=20000, order=5)"
   ]
  },
  {
   "cell_type": "markdown",
   "id": "e9207d55-1afb-46e8-8357-85d656f9c47c",
   "metadata": {},
   "source": [
    "# Compute triggered averaging"
   ]
  },
  {
   "cell_type": "code",
   "execution_count": null,
   "id": "57fe65b4-c82f-49cb-9324-a5daa3f01b74",
   "metadata": {},
   "outputs": [],
   "source": [
    "data_window = np.array((0,50)).astype(int)\n",
    "data_window *= 20\n",
    "amp_trial = np.zeros((100, 1024, int((data_window[1]-data_window[0])))) # computing for 100 trials\n",
    "count = 0 # Using count instead of enumerate here, in case you want to add critera for rejecting individual trials \n",
    "for t in trig[:100]:\n",
    "    # Apply common mode subtraction\n",
    "    amp_trial[count, selected_chs, :] = neural_bp[selected_chs,t+data_window[0]:t+data_window[1]] - np.mean(neural_bp[selected_chs,t+data_window[0]:t+data_window[1]], axis=0, keepdims=True)\n",
    "    count += 1\n",
    "ssep = np.mean(amp_trial,axis=0)"
   ]
  },
  {
   "cell_type": "markdown",
   "id": "461912aa-d6d1-49fc-8745-5b4c947d7925",
   "metadata": {},
   "source": [
    "# Correlation between electrode pairs"
   ]
  },
  {
   "cell_type": "code",
   "execution_count": null,
   "id": "ae995759-9104-4549-ba9a-c5b51da045ce",
   "metadata": {},
   "outputs": [],
   "source": [
    "Fs = 20000 # sampling frequency\n",
    "neural_data_filt = butter_bandpass_filter(neural_data, cutoff=[0.1, 300], fs=20000, order=5)\n",
    "\n",
    "corr2_sum = np.zeros((1024,1024))\n",
    "corr_avg = np.zeros((1024,1024))\n",
    "count = 0\n",
    "\n",
    "# Compute the correlation coefficients and R^2\n",
    "for t in trig:\n",
    "    segment = neural_data_filt[:,t:t+Fs*2]\n",
    "    corr = np.corrcoef(segment)\n",
    "    corr_avg += corr\n",
    "    corr2_sum += corr**2\n",
    "    count += 1\n",
    "corr_avg /= count\n",
    "corr2_sum /= count"
   ]
  },
  {
   "cell_type": "markdown",
   "id": "e16b8daf-65db-4a6c-8ea4-a969e77d7e10",
   "metadata": {},
   "source": [
    "# Hjorth parameters"
   ]
  },
  {
   "cell_type": "code",
   "execution_count": null,
   "id": "9a40656a-691b-4dad-b63f-e8f87073b878",
   "metadata": {},
   "outputs": [],
   "source": [
    "Fs = 20000 # sampling frequency\n",
    "neural_data_filt = butter_bandpass_filter(neural_data, cutoff=[0.1, 300], fs=20000, order=5)\n",
    "\n",
    "hjorth = np.zeros((40, 1024))\n",
    "count = 0\n",
    "\n",
    "# Compute the correlation coefficients and R^2\n",
    "for k, t in enumerate(trig):\n",
    "    segment = neural_data_filt[:,t:t+Fs*2]\n",
    "    hjorth[k, :] = np.var(segment, axis=-1)\n",
    "    count += 1\n",
    "hjorth /= count"
   ]
  }
 ],
 "metadata": {
  "kernelspec": {
   "display_name": "Python 3 (ipykernel)",
   "language": "python",
   "name": "python3"
  },
  "language_info": {
   "codemirror_mode": {
    "name": "ipython",
    "version": 3
   },
   "file_extension": ".py",
   "mimetype": "text/x-python",
   "name": "python",
   "nbconvert_exporter": "python",
   "pygments_lexer": "ipython3",
   "version": "3.10.14"
  }
 },
 "nbformat": 4,
 "nbformat_minor": 5
}
